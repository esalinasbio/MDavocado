{
 "cells": [
  {
   "cell_type": "markdown",
   "id": "2e081ae8-97c3-4974-adc4-116f8abda7cd",
   "metadata": {},
   "source": [
    "# Example how to produce MDavocado diagrams"
   ]
  },
  {
   "cell_type": "markdown",
   "id": "b63fc5a6-6a75-47f9-8184-9a14105d90d4",
   "metadata": {},
   "source": [
    "This Jupyter notebook will giude you through a simple procedure how to produce MDavocado diagrams from one example molecular dynamics (MD) simulation trajectory. In order to be able to run this notebook you need to be in your MDavocado conda environment as explained in more detail [here](https://github.com/zoranstefanic/MDavocado)"
   ]
  },
  {
   "cell_type": "markdown",
   "id": "8eee2336-004a-499e-a994-0d5b3a67a562",
   "metadata": {},
   "source": [
    "Basically we need to install all the required packages by running:\n",
    "\n",
    "```bash\n",
    "conda create --name MDavocado --file packages.txt\n",
    "conda activate MDavocado\n",
    "```"
   ]
  },
  {
   "cell_type": "markdown",
   "id": "08f6c33d-0f1e-4f12-b9bb-5c138d5c6c02",
   "metadata": {},
   "source": [
    "Now you have to go to the **examples** subdirectory and run:\n",
    "\n",
    "```\n",
    "jupyter notebook Example.ipynb\n",
    "```\n",
    "\n",
    "It will open this notebook in your browser and you can ineractivelly run it."
   ]
  },
  {
   "cell_type": "code",
   "execution_count": 1,
   "id": "35be6f40-299b-4cea-82ab-018fbd73a001",
   "metadata": {},
   "outputs": [],
   "source": [
    "from MDAnalysisData import datasets"
   ]
  },
  {
   "cell_type": "markdown",
   "id": "95bd8b8a-4c3b-402b-a79e-252705380d6b",
   "metadata": {},
   "source": [
    "This will import all the necessary stuff to be able to fetch the example trajectories included in the [MDAnalysisData](https://www.mdanalysis.org/MDAnalysisData/index.html) package. As a first example we will produce the MDavocado diagrams for the [AdK equilibrium dataset](https://www.mdanalysis.org/MDAnalysisData/adk_equilibrium.html)."
   ]
  },
  {
   "cell_type": "code",
   "execution_count": 2,
   "id": "90d016db-ff16-4d61-a0b3-e742176f2a67",
   "metadata": {},
   "outputs": [],
   "source": [
    "# Fetch the AdK dataset\n",
    "adk = datasets.fetch_adk_equilibrium()"
   ]
  },
  {
   "cell_type": "markdown",
   "id": "4c3c1748-fa5c-4cdb-a531-584a5ddcb0df",
   "metadata": {},
   "source": [
    "Here we can see the basic info about this trajectory (it is only 161 MB!):"
   ]
  },
  {
   "cell_type": "code",
   "execution_count": 5,
   "id": "c21ddd49-5f30-4198-b6a7-e4bce82846c5",
   "metadata": {
    "scrolled": true
   },
   "outputs": [
    {
     "name": "stdout",
     "output_type": "stream",
     "text": [
      ".. -*- coding: utf-8 -*-\n",
      "\n",
      ".. _`adk-equilibrium-dataset`:\n",
      "\n",
      "AdK equilibrium trajectory dataset\n",
      "==================================\n",
      "\n",
      "MD trajectory of apo adenylate kinase with CHARMM27 force field and\n",
      "simulated with explicit water and ions in NPT at 300 K and 1\n",
      "bar. Saved every 240 ps for a total of 1.004 µs. Produced on PSC\n",
      "Anton. The trajectory only contains the protein while all solvent was\n",
      "stripped in order to reduce the trajectory size. The whole protein was\n",
      "superimposed on the CORE domain of AdK by RMSD fitting.\n",
      "\n",
      "The topology is contained in the PSF file (CHARMM format). The\n",
      "trajectory is contained in the DCD file (CHARMM/NAMD format).\n",
      "\n",
      "\n",
      "Notes\n",
      "-----\n",
      "\n",
      "Data set characteristics:\n",
      "\n",
      " :size: 161 MB\n",
      " :number of trajectories: 1\n",
      " :number of frames:  4187\n",
      " :number of particles: 3341\n",
      " :creator: Sean Seyler\n",
      " :URL:  `10.6084/m9.figshare.5108170.v1 <https://doi.org/10.6084/m9.figshare.5108170.v1>`_\n",
      " :license: `CC-BY 4.0 <https://creativecommons.org/licenses/by/4.0/legalcode>`_\n",
      " :reference: [Seyler2017]_\n",
      "    \n",
      "\n",
      ".. [Seyler2017]  Seyler, Sean; Beckstein, Oliver (2017): Molecular dynamics\n",
      "\t   trajectory for benchmarking\n",
      "\t   MDAnalysis. figshare. Fileset. doi:\n",
      "\t   `10.6084/m9.figshare.5108170.v1\n",
      "\t   <https://doi.org/10.6084/m9.figshare.5108170.v1>`_\n",
      "\n",
      "\n"
     ]
    }
   ],
   "source": [
    "print(adk['DESCR'])"
   ]
  },
  {
   "cell_type": "markdown",
   "id": "f179fdce-8de1-450b-9c2b-9c23971d1084",
   "metadata": {},
   "source": [
    "We make sure we are in the top MDavocado directory:"
   ]
  },
  {
   "cell_type": "code",
   "execution_count": 7,
   "id": "676188d0-437f-4f83-bebb-87ac855ae8b6",
   "metadata": {},
   "outputs": [
    {
     "name": "stdout",
     "output_type": "stream",
     "text": [
      "/disk1/ALOKOMP/MDavocado\n"
     ]
    }
   ],
   "source": [
    "cd .."
   ]
  },
  {
   "cell_type": "code",
   "execution_count": 8,
   "id": "609aa19b-6199-4d90-b910-a582ff14ff9f",
   "metadata": {},
   "outputs": [],
   "source": [
    "from ramachandran import *"
   ]
  },
  {
   "cell_type": "code",
   "execution_count": 10,
   "id": "b993df5b-05be-4b8c-bd31-423734d5aecd",
   "metadata": {
    "scrolled": true
   },
   "outputs": [
    {
     "name": "stderr",
     "output_type": "stream",
     "text": [
      "/home/zoran/anaconda3/envs/MDavocado/lib/python3.12/site-packages/MDAnalysis/coordinates/DCD.py:165: DeprecationWarning: DCDReader currently makes independent timesteps by copying self.ts while other readers update self.ts inplace. This behavior will be changed in 3.0 to be the same as other readers. Read more at https://github.com/MDAnalysis/mdanalysis/issues/3889 to learn if this change in behavior might affect you.\n",
      "  warnings.warn(\"DCDReader currently makes independent timesteps\"\n",
      "/home/zoran/anaconda3/envs/MDavocado/lib/python3.12/site-packages/MDAnalysis/analysis/dihedrals.py:400: UserWarning: Cannot determine phi and psi angles for the first or last residues\n",
      "  warnings.warn(\"Cannot determine phi and psi angles for the first \"\n"
     ]
    },
    {
     "data": {
      "application/vnd.jupyter.widget-view+json": {
       "model_id": "3e6870cf7faf40d0879335b3ff776196",
       "version_major": 2,
       "version_minor": 0
      },
      "text/plain": [
       "  0%|          | 0/418 [00:00<?, ?it/s]"
      ]
     },
     "metadata": {},
     "output_type": "display_data"
    },
    {
     "name": "stdout",
     "output_type": "stream",
     "text": [
      "Writing out rama_0_418.pkl\n"
     ]
    },
    {
     "data": {
      "application/vnd.jupyter.widget-view+json": {
       "model_id": "2417a4b15082452ba82f0de5178b8dc5",
       "version_major": 2,
       "version_minor": 0
      },
      "text/plain": [
       "  0%|          | 0/418 [00:00<?, ?it/s]"
      ]
     },
     "metadata": {},
     "output_type": "display_data"
    },
    {
     "name": "stdout",
     "output_type": "stream",
     "text": [
      "Writing out rama_418_836.pkl\n"
     ]
    },
    {
     "data": {
      "application/vnd.jupyter.widget-view+json": {
       "model_id": "58894387b3ce44c6b93748306eb0214e",
       "version_major": 2,
       "version_minor": 0
      },
      "text/plain": [
       "  0%|          | 0/418 [00:00<?, ?it/s]"
      ]
     },
     "metadata": {},
     "output_type": "display_data"
    },
    {
     "name": "stdout",
     "output_type": "stream",
     "text": [
      "Writing out rama_836_1254.pkl\n"
     ]
    },
    {
     "data": {
      "application/vnd.jupyter.widget-view+json": {
       "model_id": "9603764087084ec3b839e159cb0cde61",
       "version_major": 2,
       "version_minor": 0
      },
      "text/plain": [
       "  0%|          | 0/418 [00:00<?, ?it/s]"
      ]
     },
     "metadata": {},
     "output_type": "display_data"
    },
    {
     "name": "stdout",
     "output_type": "stream",
     "text": [
      "Writing out rama_1254_1672.pkl\n"
     ]
    },
    {
     "data": {
      "application/vnd.jupyter.widget-view+json": {
       "model_id": "c4358df592eb45e382f52ff3637e7654",
       "version_major": 2,
       "version_minor": 0
      },
      "text/plain": [
       "  0%|          | 0/418 [00:00<?, ?it/s]"
      ]
     },
     "metadata": {},
     "output_type": "display_data"
    },
    {
     "name": "stdout",
     "output_type": "stream",
     "text": [
      "Writing out rama_1672_2090.pkl\n"
     ]
    },
    {
     "data": {
      "application/vnd.jupyter.widget-view+json": {
       "model_id": "e4bbed5b195c4d169c2625b6fcf270fd",
       "version_major": 2,
       "version_minor": 0
      },
      "text/plain": [
       "  0%|          | 0/418 [00:00<?, ?it/s]"
      ]
     },
     "metadata": {},
     "output_type": "display_data"
    },
    {
     "name": "stdout",
     "output_type": "stream",
     "text": [
      "Writing out rama_2090_2508.pkl\n"
     ]
    },
    {
     "data": {
      "application/vnd.jupyter.widget-view+json": {
       "model_id": "40b652f4d12b4708a473cfaf4b5086b6",
       "version_major": 2,
       "version_minor": 0
      },
      "text/plain": [
       "  0%|          | 0/418 [00:00<?, ?it/s]"
      ]
     },
     "metadata": {},
     "output_type": "display_data"
    },
    {
     "name": "stdout",
     "output_type": "stream",
     "text": [
      "Writing out rama_2508_2926.pkl\n"
     ]
    },
    {
     "data": {
      "application/vnd.jupyter.widget-view+json": {
       "model_id": "cccace36c67841c29aa1844d9f810f49",
       "version_major": 2,
       "version_minor": 0
      },
      "text/plain": [
       "  0%|          | 0/418 [00:00<?, ?it/s]"
      ]
     },
     "metadata": {},
     "output_type": "display_data"
    },
    {
     "name": "stdout",
     "output_type": "stream",
     "text": [
      "Writing out rama_2926_3344.pkl\n"
     ]
    },
    {
     "data": {
      "application/vnd.jupyter.widget-view+json": {
       "model_id": "97974db006b54f7ba1405d7bc12db892",
       "version_major": 2,
       "version_minor": 0
      },
      "text/plain": [
       "  0%|          | 0/418 [00:00<?, ?it/s]"
      ]
     },
     "metadata": {},
     "output_type": "display_data"
    },
    {
     "name": "stdout",
     "output_type": "stream",
     "text": [
      "Writing out rama_3344_3762.pkl\n"
     ]
    },
    {
     "data": {
      "application/vnd.jupyter.widget-view+json": {
       "model_id": "d5bf294f12aa4f84baa87848fa8dcd1f",
       "version_major": 2,
       "version_minor": 0
      },
      "text/plain": [
       "  0%|          | 0/425 [00:00<?, ?it/s]"
      ]
     },
     "metadata": {},
     "output_type": "display_data"
    },
    {
     "name": "stdout",
     "output_type": "stream",
     "text": [
      "Writing out rama_3762_4187.pkl\n",
      "df0\n",
      "Finished directory df0\n",
      "df1\n",
      "Finished directory df1\n",
      "df2\n",
      "Finished directory df2\n",
      "df3\n",
      "Finished directory df3\n",
      "df4\n",
      "Finished directory df4\n",
      "df5\n",
      "Finished directory df5\n",
      "df6\n",
      "Finished directory df6\n",
      "df7\n",
      "Finished directory df7\n",
      "df8\n",
      "Finished directory df8\n",
      "df9\n",
      "Finished directory df9\n",
      "Copying blanks to df0\n",
      "Copying blanks to df1\n",
      "Copying blanks to df2\n",
      "Copying blanks to df3\n",
      "Copying blanks to df4\n",
      "Copying blanks to df5\n",
      "Copying blanks to df6\n",
      "Copying blanks to df7\n",
      "Copying blanks to df8\n",
      "Copying blanks to df9\n",
      "Adding labels in dir: df0\n",
      "Adding labels in dir: df1\n",
      "Adding labels in dir: df2\n",
      "Adding labels in dir: df3\n",
      "Adding labels in dir: df4\n",
      "Adding labels in dir: df5\n",
      "Adding labels in dir: df6\n",
      "Adding labels in dir: df7\n",
      "Adding labels in dir: df8\n",
      "Adding labels in dir: df9\n",
      "Making gif: 1\n",
      "Making gif: 2\n",
      "Making gif: 3\n",
      "Making gif: 4\n",
      "Making gif: 5\n",
      "Making gif: 6\n",
      "Making gif: 7\n",
      "Making gif: 8\n",
      "Making gif: 9\n",
      "Making gif: 10\n",
      "Making gif: 11\n",
      "Making gif: 12\n",
      "Making gif: 13\n",
      "Making gif: 14\n",
      "Making gif: 15\n",
      "Making gif: 16\n",
      "Making gif: 17\n",
      "Making gif: 18\n",
      "Making gif: 19\n",
      "Making gif: 20\n",
      "Making gif: 21\n",
      "Making gif: 22\n",
      "Making gif: 23\n",
      "Making gif: 24\n",
      "Making gif: 25\n",
      "Making gif: 26\n",
      "Making gif: 27\n",
      "Making gif: 28\n",
      "Making gif: 29\n",
      "Making gif: 30\n",
      "Making gif: 31\n",
      "Making gif: 32\n",
      "Making gif: 33\n",
      "Making gif: 34\n",
      "Making gif: 35\n",
      "Making gif: 36\n",
      "Making gif: 37\n",
      "Making gif: 38\n",
      "Making gif: 39\n",
      "Making gif: 40\n",
      "Making gif: 41\n",
      "Making gif: 42\n",
      "Making gif: 43\n",
      "Making gif: 44\n",
      "Making gif: 45\n",
      "Making gif: 46\n",
      "Making gif: 47\n",
      "Making gif: 48\n",
      "Making gif: 49\n",
      "Making gif: 50\n",
      "Making gif: 51\n",
      "Making gif: 52\n",
      "Making gif: 53\n",
      "Making gif: 54\n",
      "Making gif: 55\n",
      "Making gif: 56\n",
      "Making gif: 57\n",
      "Making gif: 58\n",
      "Making gif: 59\n",
      "Making gif: 60\n",
      "Making gif: 61\n",
      "Making gif: 62\n",
      "Making gif: 63\n",
      "Making gif: 64\n",
      "Making gif: 65\n",
      "Making gif: 66\n",
      "Making gif: 67\n",
      "Making gif: 68\n",
      "Making gif: 69\n",
      "Making gif: 70\n",
      "Making gif: 71\n",
      "Making gif: 72\n",
      "Making gif: 73\n",
      "Making gif: 74\n",
      "Making gif: 75\n",
      "Making gif: 76\n",
      "Making gif: 77\n",
      "Making gif: 78\n",
      "Making gif: 79\n",
      "Making gif: 80\n",
      "Making gif: 81\n",
      "Making gif: 82\n",
      "Making gif: 83\n",
      "Making gif: 84\n",
      "Making gif: 85\n",
      "Making gif: 86\n",
      "Making gif: 87\n",
      "Making gif: 88\n",
      "Making gif: 89\n",
      "Making gif: 90\n",
      "Making gif: 91\n",
      "Making gif: 92\n",
      "Making gif: 93\n",
      "Making gif: 94\n",
      "Making gif: 95\n",
      "Making gif: 96\n",
      "Making gif: 97\n",
      "Making gif: 98\n",
      "Making gif: 99\n",
      "Making gif: 100\n",
      "Making gif: 101\n",
      "Making gif: 102\n",
      "Making gif: 103\n",
      "Making gif: 104\n",
      "Making gif: 105\n",
      "Making gif: 106\n",
      "Making gif: 107\n",
      "Making gif: 108\n",
      "Making gif: 109\n",
      "Making gif: 110\n",
      "Making gif: 111\n",
      "Making gif: 112\n",
      "Making gif: 113\n",
      "Making gif: 114\n",
      "Making gif: 115\n",
      "Making gif: 116\n",
      "Making gif: 117\n",
      "Making gif: 118\n",
      "Making gif: 119\n",
      "Making gif: 120\n",
      "Making gif: 121\n",
      "Making gif: 122\n",
      "Making gif: 123\n",
      "Making gif: 124\n",
      "Making gif: 125\n",
      "Making gif: 126\n",
      "Making gif: 127\n",
      "Making gif: 128\n",
      "Making gif: 129\n",
      "Making gif: 130\n",
      "Making gif: 131\n",
      "Making gif: 132\n",
      "Making gif: 133\n",
      "Making gif: 134\n",
      "Making gif: 135\n",
      "Making gif: 136\n",
      "Making gif: 137\n",
      "Making gif: 138\n",
      "Making gif: 139\n",
      "Making gif: 140\n",
      "Making gif: 141\n",
      "Making gif: 142\n",
      "Making gif: 143\n",
      "Making gif: 144\n",
      "Making gif: 145\n",
      "Making gif: 146\n",
      "Making gif: 147\n",
      "Making gif: 148\n",
      "Making gif: 149\n",
      "Making gif: 150\n",
      "Making gif: 151\n",
      "Making gif: 152\n",
      "Making gif: 153\n",
      "Making gif: 154\n",
      "Making gif: 155\n",
      "Making gif: 156\n",
      "Making gif: 157\n",
      "Making gif: 158\n",
      "Making gif: 159\n",
      "Making gif: 160\n",
      "Making gif: 161\n",
      "Making gif: 162\n",
      "Making gif: 163\n",
      "Making gif: 164\n",
      "Making gif: 165\n",
      "Making gif: 166\n",
      "Making gif: 167\n",
      "Making gif: 168\n",
      "Making gif: 169\n",
      "Making gif: 170\n",
      "Making gif: 171\n",
      "Making gif: 172\n",
      "Making gif: 173\n",
      "Making gif: 174\n",
      "Making gif: 175\n",
      "Making gif: 176\n",
      "Making gif: 177\n",
      "Making gif: 178\n",
      "Making gif: 179\n",
      "Making gif: 180\n",
      "Making gif: 181\n",
      "Making gif: 182\n",
      "Making gif: 183\n",
      "Making gif: 184\n",
      "Making gif: 185\n",
      "Making gif: 186\n",
      "Making gif: 187\n",
      "Making gif: 188\n",
      "Making gif: 189\n",
      "Making gif: 190\n",
      "Making gif: 191\n",
      "Making gif: 192\n",
      "Making gif: 193\n",
      "Making gif: 194\n",
      "Making gif: 195\n",
      "Making gif: 196\n",
      "Making gif: 197\n",
      "Making gif: 198\n",
      "Making gif: 199\n",
      "Making gif: 200\n",
      "Making gif: 201\n",
      "Making gif: 202\n",
      "Making gif: 203\n",
      "Making gif: 204\n",
      "Making gif: 205\n",
      "Making gif: 206\n",
      "Making gif: 207\n",
      "Making gif: 208\n",
      "Making gif: 209\n",
      "Making gif: 210\n",
      "Making gif: 211\n",
      "Making gif: 212\n",
      "Making gif: 213\n",
      "Making gif: 214\n",
      "Making montage in dir: df0\n",
      "Making montage in dir: df1\n",
      "Making montage in dir: df2\n",
      "Making montage in dir: df3\n",
      "Making montage in dir: df4\n",
      "Making montage in dir: df5\n",
      "Making montage in dir: df6\n",
      "Making montage in dir: df7\n",
      "Making montage in dir: df8\n",
      "Making montage in dir: df9\n",
      "All done!\n"
     ]
    }
   ],
   "source": [
    "# We create the MDanalysis Universe from the above trajectory and topology\n",
    "u = Universe(adk['topology'],adk['trajectory'])\n",
    "\n",
    "# We initialize the main RamachandranPlots class\n",
    "rp = RamachandranPlots(u)\n",
    "\n",
    "# And simply use the run method of the above class\n",
    "rp.run()"
   ]
  },
  {
   "cell_type": "markdown",
   "id": "2b899af5-edf9-4970-8a5d-ec75fa2fb14d",
   "metadata": {},
   "source": [
    "After a few minutes (it could be up to few hours for large/long trajectories) you get a \"All done!\" message.\n",
    "\n",
    "This means that you should have a MDavocado diagram in form of a GIF image produced in the directory (usually it is set to ~/MDAnalysis_data/adk_equilibrium/')"
   ]
  },
  {
   "cell_type": "markdown",
   "id": "d7124897-792c-464d-afc4-166cbb46c41d",
   "metadata": {},
   "source": [
    "For this small example trajectory it will look like this:"
   ]
  },
  {
   "cell_type": "code",
   "execution_count": 14,
   "id": "5079bf41-e076-4ff7-9080-b88195b5e325",
   "metadata": {},
   "outputs": [
    {
     "name": "stdout",
     "output_type": "stream",
     "text": [
      "/disk1/ALOKOMP/MDavocado\n"
     ]
    }
   ],
   "source": [
    "cd ~/ALOKOMP/MDavocado/"
   ]
  },
  {
   "cell_type": "markdown",
   "id": "c9eaadae-7abc-481b-8d38-ca73d931d4d9",
   "metadata": {},
   "source": [
    "![MDavocado diagram of AdK example trajectory](./A.gif)"
   ]
  },
  {
   "cell_type": "markdown",
   "id": "2a89837a-4396-4565-860f-1d3cf5661292",
   "metadata": {},
   "source": [
    "This is a rather short trajectory with just 4187 frames and therefore there are not much points to aggregate, although the dynamics of several moving amino acids is still very visible. But in case of much longer trajectories (as in the case of trajectory having 400 000 frames and lasting 1 microsecond from [ALOKOMP project](https://alokomp.irb.hr/) page) you would get something like this:"
   ]
  },
  {
   "cell_type": "markdown",
   "id": "fc2ce3c6-4340-440d-97fb-a9ac204e5917",
   "metadata": {},
   "source": [
    "![](https://alokomp.irb.hr/static/avokado/1458/A.gif)"
   ]
  }
 ],
 "metadata": {
  "kernelspec": {
   "display_name": "Python 3 (ipykernel)",
   "language": "python",
   "name": "python3"
  },
  "language_info": {
   "codemirror_mode": {
    "name": "ipython",
    "version": 3
   },
   "file_extension": ".py",
   "mimetype": "text/x-python",
   "name": "python",
   "nbconvert_exporter": "python",
   "pygments_lexer": "ipython3",
   "version": "3.12.0"
  }
 },
 "nbformat": 4,
 "nbformat_minor": 5
}
